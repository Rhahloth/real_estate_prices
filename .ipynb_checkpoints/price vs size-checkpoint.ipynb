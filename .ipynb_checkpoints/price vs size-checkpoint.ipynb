{
 "cells": [
  {
   "cell_type": "markdown",
   "id": "d0fec3b1-ed63-43bf-aed3-64d08fd6e954",
   "metadata": {},
   "source": [
    "<font size=\"+2\"><strong>1. Property Data Analysis</strong></font>"
   ]
  },
  {
   "cell_type": "code",
   "execution_count": 5,
   "id": "a09c2f7c-fc71-4c3b-b9f0-eaee7c638589",
   "metadata": {},
   "outputs": [],
   "source": [
    "import matplotlib.pyplot as plt\n",
    "import pandas as pd\n",
    "import seaborn as sns\n",
    "\n",
    "from sklearn.linear_model import LinearRegression\n",
    "from sklearn.metrics import mean_absolute_error"
   ]
  },
  {
   "cell_type": "markdown",
   "id": "99c6eb0b-7b93-4505-ac0b-425e3eb2e270",
   "metadata": {},
   "source": [
    "<font size=\"+2\"><strong>1.1. Location or Size: What Influences House Prices?</strong></font>"
   ]
  },
  {
   "cell_type": "markdown",
   "id": "f91abe15-552a-4383-b94d-1164214f248f",
   "metadata": {},
   "source": [
    "# Prepare Data"
   ]
  },
  {
   "cell_type": "markdown",
   "id": "37a3a242-d1c5-4599-b923-9f489920a651",
   "metadata": {},
   "source": [
    "## Import"
   ]
  },
  {
   "cell_type": "code",
   "execution_count": 119,
   "id": "ab949c6e-d18b-4b4d-889c-87dc57284959",
   "metadata": {},
   "outputs": [],
   "source": [
    "#wrangle function\n",
    "def wrangle(filename):\n",
    "\n",
    "    #read csv file\n",
    "    df = pd.read_csv(filename)\n",
    "\n",
    "    #dOnly residential property\n",
    "    df = df[(df['PropType'] == 'Residential') & (df['Sale_price'] >= 80000) & (df['Sale_price'] <= 400000)] \n",
    "    \n",
    "    #drop null columns with more than 400 missing \n",
    "    df.dropna(thresh = df.shape[0] -  400, axis = 1, inplace = True)\n",
    "\n",
    "    #drop any null rows\n",
    "    df.dropna(axis = 0, inplace = True)\n",
    "    \n",
    "    # drop some columns with high cardinality \n",
    "    df.drop(columns = ['Sale_date', 'Address'], inplace = True)\n",
    "    \n",
    "    #manipulate high cardinality features\n",
    "    top_10_style = df['Style'].value_counts().head(9).keys().tolist()\n",
    "    df['Style'] = df['Style'].apply(lambda x : x if x in top_10_style else 'Other')\n",
    "\n",
    "    #we will drop some columns with low cardinality\n",
    "    df.drop(columns = ['Units', 'Hbath', 'Fbath'], inplace = True)\n",
    "\n",
    "    # dropping stuffs\n",
    "    df.drop(columns = ['Nbhd', 'Taxkey', 'Year_Built', 'Nr_of_rms', 'Bdrms', 'Lotsize'], inplace = True)\n",
    "\n",
    "    df['Price_per_sqft'] = round(df['Sale_price'] / df['FinishedSqft'])\n",
    "\n",
    "    # outliers df for feet\n",
    "    q1_f, q3_f = (df[\"FinishedSqft\"].quantile([0.1,0.9]))\n",
    "    outlier_ft = df['FinishedSqft'].between(q1_f, q3_f)\n",
    "\n",
    "    #outlier price, only (210,000 and 357,000)\n",
    "    q1_p, q3_p = (df[\"Sale_price\"].quantile([0.1, 0.9]))\n",
    "    outlier_price = df['Sale_price'].between(q1_p, q3_p)\n",
    "\n",
    "    df = df[outlier_ft & outlier_price]\n",
    "    return df"
   ]
  },
  {
   "cell_type": "code",
   "execution_count": 121,
   "id": "b3120a44-ce70-4c99-83e1-8ad94c255a6c",
   "metadata": {},
   "outputs": [],
   "source": [
    "df = wrangle('property_one.csv')"
   ]
  },
  {
   "cell_type": "code",
   "execution_count": 123,
   "id": "3e9cdc74-1ae3-4dce-8344-5409fd82bc0a",
   "metadata": {},
   "outputs": [
    {
     "name": "stdout",
     "output_type": "stream",
     "text": [
      " Total Null values: 0\n",
      " Shape of the df : 13412 rows and 8 columns\n",
      " Dataframe size is : 107296 datasets \n"
     ]
    },
    {
     "data": {
      "text/html": [
       "<div>\n",
       "<style scoped>\n",
       "    .dataframe tbody tr th:only-of-type {\n",
       "        vertical-align: middle;\n",
       "    }\n",
       "\n",
       "    .dataframe tbody tr th {\n",
       "        vertical-align: top;\n",
       "    }\n",
       "\n",
       "    .dataframe thead th {\n",
       "        text-align: right;\n",
       "    }\n",
       "</style>\n",
       "<table border=\"1\" class=\"dataframe\">\n",
       "  <thead>\n",
       "    <tr style=\"text-align: right;\">\n",
       "      <th></th>\n",
       "      <th>PropType</th>\n",
       "      <th>District</th>\n",
       "      <th>Style</th>\n",
       "      <th>Extwall</th>\n",
       "      <th>Stories</th>\n",
       "      <th>FinishedSqft</th>\n",
       "      <th>Sale_price</th>\n",
       "      <th>Price_per_sqft</th>\n",
       "    </tr>\n",
       "  </thead>\n",
       "  <tbody>\n",
       "    <tr>\n",
       "      <th>51</th>\n",
       "      <td>Residential</td>\n",
       "      <td>3</td>\n",
       "      <td>Other</td>\n",
       "      <td>Frame</td>\n",
       "      <td>2.0</td>\n",
       "      <td>1992</td>\n",
       "      <td>145000</td>\n",
       "      <td>73.0</td>\n",
       "    </tr>\n",
       "    <tr>\n",
       "      <th>358</th>\n",
       "      <td>Residential</td>\n",
       "      <td>1</td>\n",
       "      <td>Cape Cod</td>\n",
       "      <td>Brick</td>\n",
       "      <td>1.0</td>\n",
       "      <td>1620</td>\n",
       "      <td>148500</td>\n",
       "      <td>92.0</td>\n",
       "    </tr>\n",
       "    <tr>\n",
       "      <th>359</th>\n",
       "      <td>Residential</td>\n",
       "      <td>13</td>\n",
       "      <td>Ranch</td>\n",
       "      <td>Brick</td>\n",
       "      <td>1.0</td>\n",
       "      <td>986</td>\n",
       "      <td>105000</td>\n",
       "      <td>106.0</td>\n",
       "    </tr>\n",
       "    <tr>\n",
       "      <th>1277</th>\n",
       "      <td>Residential</td>\n",
       "      <td>8</td>\n",
       "      <td>Other</td>\n",
       "      <td>Aluminum / Vinyl</td>\n",
       "      <td>1.5</td>\n",
       "      <td>2091</td>\n",
       "      <td>155000</td>\n",
       "      <td>74.0</td>\n",
       "    </tr>\n",
       "    <tr>\n",
       "      <th>1849</th>\n",
       "      <td>Residential</td>\n",
       "      <td>1</td>\n",
       "      <td>Cape Cod</td>\n",
       "      <td>Stone</td>\n",
       "      <td>1.0</td>\n",
       "      <td>1188</td>\n",
       "      <td>103000</td>\n",
       "      <td>87.0</td>\n",
       "    </tr>\n",
       "  </tbody>\n",
       "</table>\n",
       "</div>"
      ],
      "text/plain": [
       "         PropType  District     Style           Extwall  Stories  \\\n",
       "51    Residential         3     Other             Frame      2.0   \n",
       "358   Residential         1  Cape Cod             Brick      1.0   \n",
       "359   Residential        13     Ranch             Brick      1.0   \n",
       "1277  Residential         8     Other  Aluminum / Vinyl      1.5   \n",
       "1849  Residential         1  Cape Cod             Stone      1.0   \n",
       "\n",
       "      FinishedSqft  Sale_price  Price_per_sqft  \n",
       "51            1992      145000            73.0  \n",
       "358           1620      148500            92.0  \n",
       "359            986      105000           106.0  \n",
       "1277          2091      155000            74.0  \n",
       "1849          1188      103000            87.0  "
      ]
     },
     "execution_count": 123,
     "metadata": {},
     "output_type": "execute_result"
    }
   ],
   "source": [
    "print(f' Total Null values: {df.isnull().sum().sum()}')\n",
    "print(f\" Shape of the df : {df.shape[0]} rows and {df.shape[1]} columns\")\n",
    "print(f\" Dataframe size is : {df.size} datasets \")\n",
    "df.head()"
   ]
  },
  {
   "cell_type": "code",
   "execution_count": 125,
   "id": "4da5558e-e4ee-4b3b-a602-25e5a526fd27",
   "metadata": {},
   "outputs": [
    {
     "data": {
      "text/plain": [
       "PropType     1\n",
       "Style       10\n",
       "Extwall      9\n",
       "dtype: int64"
      ]
     },
     "execution_count": 125,
     "metadata": {},
     "output_type": "execute_result"
    }
   ],
   "source": [
    "#high cardinality features\n",
    "df.select_dtypes('object').nunique()"
   ]
  },
  {
   "cell_type": "code",
   "execution_count": 127,
   "id": "39227b60-1edc-4c95-ab57-5921828b0e72",
   "metadata": {},
   "outputs": [
    {
     "data": {
      "text/html": [
       "<div>\n",
       "<style scoped>\n",
       "    .dataframe tbody tr th:only-of-type {\n",
       "        vertical-align: middle;\n",
       "    }\n",
       "\n",
       "    .dataframe tbody tr th {\n",
       "        vertical-align: top;\n",
       "    }\n",
       "\n",
       "    .dataframe thead th {\n",
       "        text-align: right;\n",
       "    }\n",
       "</style>\n",
       "<table border=\"1\" class=\"dataframe\">\n",
       "  <thead>\n",
       "    <tr style=\"text-align: right;\">\n",
       "      <th></th>\n",
       "      <th>District</th>\n",
       "      <th>Stories</th>\n",
       "      <th>FinishedSqft</th>\n",
       "      <th>Sale_price</th>\n",
       "      <th>Price_per_sqft</th>\n",
       "    </tr>\n",
       "  </thead>\n",
       "  <tbody>\n",
       "    <tr>\n",
       "      <th>count</th>\n",
       "      <td>13412.000000</td>\n",
       "      <td>13412.000000</td>\n",
       "      <td>13412.000000</td>\n",
       "      <td>13412.000000</td>\n",
       "      <td>13412.000000</td>\n",
       "    </tr>\n",
       "    <tr>\n",
       "      <th>mean</th>\n",
       "      <td>9.295929</td>\n",
       "      <td>1.222152</td>\n",
       "      <td>1391.851775</td>\n",
       "      <td>143955.954518</td>\n",
       "      <td>107.069937</td>\n",
       "    </tr>\n",
       "    <tr>\n",
       "      <th>std</th>\n",
       "      <td>3.738133</td>\n",
       "      <td>0.368221</td>\n",
       "      <td>326.659280</td>\n",
       "      <td>30295.147435</td>\n",
       "      <td>25.666570</td>\n",
       "    </tr>\n",
       "    <tr>\n",
       "      <th>min</th>\n",
       "      <td>1.000000</td>\n",
       "      <td>1.000000</td>\n",
       "      <td>954.000000</td>\n",
       "      <td>94500.000000</td>\n",
       "      <td>42.000000</td>\n",
       "    </tr>\n",
       "    <tr>\n",
       "      <th>25%</th>\n",
       "      <td>5.000000</td>\n",
       "      <td>1.000000</td>\n",
       "      <td>1131.000000</td>\n",
       "      <td>120000.000000</td>\n",
       "      <td>90.000000</td>\n",
       "    </tr>\n",
       "    <tr>\n",
       "      <th>50%</th>\n",
       "      <td>10.000000</td>\n",
       "      <td>1.000000</td>\n",
       "      <td>1306.500000</td>\n",
       "      <td>140000.000000</td>\n",
       "      <td>107.000000</td>\n",
       "    </tr>\n",
       "    <tr>\n",
       "      <th>75%</th>\n",
       "      <td>13.000000</td>\n",
       "      <td>1.500000</td>\n",
       "      <td>1600.000000</td>\n",
       "      <td>164000.000000</td>\n",
       "      <td>124.000000</td>\n",
       "    </tr>\n",
       "    <tr>\n",
       "      <th>max</th>\n",
       "      <td>15.000000</td>\n",
       "      <td>3.000000</td>\n",
       "      <td>2252.000000</td>\n",
       "      <td>220000.000000</td>\n",
       "      <td>210.000000</td>\n",
       "    </tr>\n",
       "  </tbody>\n",
       "</table>\n",
       "</div>"
      ],
      "text/plain": [
       "           District       Stories  FinishedSqft     Sale_price  Price_per_sqft\n",
       "count  13412.000000  13412.000000  13412.000000   13412.000000    13412.000000\n",
       "mean       9.295929      1.222152   1391.851775  143955.954518      107.069937\n",
       "std        3.738133      0.368221    326.659280   30295.147435       25.666570\n",
       "min        1.000000      1.000000    954.000000   94500.000000       42.000000\n",
       "25%        5.000000      1.000000   1131.000000  120000.000000       90.000000\n",
       "50%       10.000000      1.000000   1306.500000  140000.000000      107.000000\n",
       "75%       13.000000      1.500000   1600.000000  164000.000000      124.000000\n",
       "max       15.000000      3.000000   2252.000000  220000.000000      210.000000"
      ]
     },
     "execution_count": 127,
     "metadata": {},
     "output_type": "execute_result"
    }
   ],
   "source": [
    "df.describe()"
   ]
  },
  {
   "cell_type": "code",
   "execution_count": 129,
   "id": "5c533d0f-0050-4039-94f6-39f13d6653ee",
   "metadata": {},
   "outputs": [
    {
     "name": "stdout",
     "output_type": "stream",
     "text": [
      "<class 'pandas.core.frame.DataFrame'>\n",
      "Index: 13412 entries, 51 to 34440\n",
      "Data columns (total 8 columns):\n",
      " #   Column          Non-Null Count  Dtype  \n",
      "---  ------          --------------  -----  \n",
      " 0   PropType        13412 non-null  object \n",
      " 1   District        13412 non-null  int64  \n",
      " 2   Style           13412 non-null  object \n",
      " 3   Extwall         13412 non-null  object \n",
      " 4   Stories         13412 non-null  float64\n",
      " 5   FinishedSqft    13412 non-null  int64  \n",
      " 6   Sale_price      13412 non-null  int64  \n",
      " 7   Price_per_sqft  13412 non-null  float64\n",
      "dtypes: float64(2), int64(3), object(3)\n",
      "memory usage: 943.0+ KB\n"
     ]
    }
   ],
   "source": [
    "df.info()"
   ]
  },
  {
   "cell_type": "code",
   "execution_count": 131,
   "id": "1a662a26-4726-4746-9948-32abe1ad5d2c",
   "metadata": {},
   "outputs": [
    {
     "data": {
      "text/plain": [
       "District            15\n",
       "Stories              5\n",
       "FinishedSqft      1279\n",
       "Sale_price        1102\n",
       "Price_per_sqft     158\n",
       "dtype: int64"
      ]
     },
     "execution_count": 131,
     "metadata": {},
     "output_type": "execute_result"
    }
   ],
   "source": [
    "df.select_dtypes('number').nunique()"
   ]
  },
  {
   "cell_type": "markdown",
   "id": "9fa29f5e-10c0-4450-9eb7-de61d5e176b5",
   "metadata": {},
   "source": [
    "## Explore"
   ]
  },
  {
   "cell_type": "markdown",
   "id": "8bd19f89-44f3-4fd8-bec2-558ff9597a1f",
   "metadata": {},
   "source": [
    "**Let us look at the distribution of Sale prices**"
   ]
  },
  {
   "cell_type": "code",
   "execution_count": 135,
   "id": "67643168-b09e-4eb2-a270-5579c5cf520b",
   "metadata": {},
   "outputs": [
    {
     "data": {
      "text/html": [
       "<div>\n",
       "<style scoped>\n",
       "    .dataframe tbody tr th:only-of-type {\n",
       "        vertical-align: middle;\n",
       "    }\n",
       "\n",
       "    .dataframe tbody tr th {\n",
       "        vertical-align: top;\n",
       "    }\n",
       "\n",
       "    .dataframe thead th {\n",
       "        text-align: right;\n",
       "    }\n",
       "</style>\n",
       "<table border=\"1\" class=\"dataframe\">\n",
       "  <thead>\n",
       "    <tr style=\"text-align: right;\">\n",
       "      <th></th>\n",
       "      <th>PropType</th>\n",
       "      <th>District</th>\n",
       "      <th>Style</th>\n",
       "      <th>Extwall</th>\n",
       "      <th>Stories</th>\n",
       "      <th>FinishedSqft</th>\n",
       "      <th>Sale_price</th>\n",
       "      <th>Price_per_sqft</th>\n",
       "    </tr>\n",
       "  </thead>\n",
       "  <tbody>\n",
       "    <tr>\n",
       "      <th>51</th>\n",
       "      <td>Residential</td>\n",
       "      <td>3</td>\n",
       "      <td>Other</td>\n",
       "      <td>Frame</td>\n",
       "      <td>2.0</td>\n",
       "      <td>1992</td>\n",
       "      <td>145000</td>\n",
       "      <td>73.0</td>\n",
       "    </tr>\n",
       "    <tr>\n",
       "      <th>358</th>\n",
       "      <td>Residential</td>\n",
       "      <td>1</td>\n",
       "      <td>Cape Cod</td>\n",
       "      <td>Brick</td>\n",
       "      <td>1.0</td>\n",
       "      <td>1620</td>\n",
       "      <td>148500</td>\n",
       "      <td>92.0</td>\n",
       "    </tr>\n",
       "    <tr>\n",
       "      <th>359</th>\n",
       "      <td>Residential</td>\n",
       "      <td>13</td>\n",
       "      <td>Ranch</td>\n",
       "      <td>Brick</td>\n",
       "      <td>1.0</td>\n",
       "      <td>986</td>\n",
       "      <td>105000</td>\n",
       "      <td>106.0</td>\n",
       "    </tr>\n",
       "    <tr>\n",
       "      <th>1277</th>\n",
       "      <td>Residential</td>\n",
       "      <td>8</td>\n",
       "      <td>Other</td>\n",
       "      <td>Aluminum / Vinyl</td>\n",
       "      <td>1.5</td>\n",
       "      <td>2091</td>\n",
       "      <td>155000</td>\n",
       "      <td>74.0</td>\n",
       "    </tr>\n",
       "    <tr>\n",
       "      <th>1849</th>\n",
       "      <td>Residential</td>\n",
       "      <td>1</td>\n",
       "      <td>Cape Cod</td>\n",
       "      <td>Stone</td>\n",
       "      <td>1.0</td>\n",
       "      <td>1188</td>\n",
       "      <td>103000</td>\n",
       "      <td>87.0</td>\n",
       "    </tr>\n",
       "  </tbody>\n",
       "</table>\n",
       "</div>"
      ],
      "text/plain": [
       "         PropType  District     Style           Extwall  Stories  \\\n",
       "51    Residential         3     Other             Frame      2.0   \n",
       "358   Residential         1  Cape Cod             Brick      1.0   \n",
       "359   Residential        13     Ranch             Brick      1.0   \n",
       "1277  Residential         8     Other  Aluminum / Vinyl      1.5   \n",
       "1849  Residential         1  Cape Cod             Stone      1.0   \n",
       "\n",
       "      FinishedSqft  Sale_price  Price_per_sqft  \n",
       "51            1992      145000            73.0  \n",
       "358           1620      148500            92.0  \n",
       "359            986      105000           106.0  \n",
       "1277          2091      155000            74.0  \n",
       "1849          1188      103000            87.0  "
      ]
     },
     "execution_count": 135,
     "metadata": {},
     "output_type": "execute_result"
    }
   ],
   "source": [
    "df.head()"
   ]
  },
  {
   "cell_type": "code",
   "execution_count": 137,
   "id": "15fbb8d1-25ef-455f-8337-fac63c86a967",
   "metadata": {},
   "outputs": [
    {
     "data": {
      "text/plain": [
       "<Axes: xlabel='District', ylabel='Values'>"
      ]
     },
     "execution_count": 137,
     "metadata": {},
     "output_type": "execute_result"
    },
    {
     "data": {
      "image/png": "[encoded data removed]",
      "text/plain": [
       "<Figure size 640x480 with 1 Axes>"
      ]
     },
     "metadata": {},
     "output_type": "display_data"
    }
   ],
   "source": [
    "# we want to look at the distribution of sales prices\n",
    "melted_df = pd.melt(df, id_vars = 'District', value_vars = 'Sale_price', value_name = 'Values', var_name = 'Features')\n",
    "sns.boxplot(x = 'District', y = 'Values', data = melted_df );"
   ]
  },
  {
   "cell_type": "code",
   "execution_count": 139,
   "id": "60499124-44bb-42ef-99c3-76f1fa9abef6",
   "metadata": {},
   "outputs": [
    {
     "data": {
      "image/png": "[encoded data removed]",
      "text/plain": [
       "<Figure size 640x480 with 1 Axes>"
      ]
     },
     "metadata": {},
     "output_type": "display_data"
    }
   ],
   "source": [
    "df['Sale_price'].plot(kind = 'hist');\n",
    "\n",
    "# we have lots of outlier prices, we should remove them or focus on buildings less than 400000"
   ]
  },
  {
   "cell_type": "markdown",
   "id": "e419fb95-82cc-4586-8b45-d876bdcdcf9e",
   "metadata": {},
   "source": [
    "**Which District has the most expensive real estate market?**"
   ]
  },
  {
   "cell_type": "code",
   "execution_count": 142,
   "id": "726b76dc-8c81-423e-a3d6-9d7de9b963f3",
   "metadata": {},
   "outputs": [
    {
     "data": {
      "text/html": [
       "<div>\n",
       "<style scoped>\n",
       "    .dataframe tbody tr th:only-of-type {\n",
       "        vertical-align: middle;\n",
       "    }\n",
       "\n",
       "    .dataframe tbody tr th {\n",
       "        vertical-align: top;\n",
       "    }\n",
       "\n",
       "    .dataframe thead th {\n",
       "        text-align: right;\n",
       "    }\n",
       "</style>\n",
       "<table border=\"1\" class=\"dataframe\">\n",
       "  <thead>\n",
       "    <tr style=\"text-align: right;\">\n",
       "      <th></th>\n",
       "      <th>District</th>\n",
       "      <th>Mean_price</th>\n",
       "    </tr>\n",
       "  </thead>\n",
       "  <tbody>\n",
       "    <tr>\n",
       "      <th>10</th>\n",
       "      <td>11</td>\n",
       "      <td>116.173601</td>\n",
       "    </tr>\n",
       "    <tr>\n",
       "      <th>13</th>\n",
       "      <td>14</td>\n",
       "      <td>114.465328</td>\n",
       "    </tr>\n",
       "    <tr>\n",
       "      <th>12</th>\n",
       "      <td>13</td>\n",
       "      <td>113.192138</td>\n",
       "    </tr>\n",
       "    <tr>\n",
       "      <th>2</th>\n",
       "      <td>3</td>\n",
       "      <td>109.459410</td>\n",
       "    </tr>\n",
       "    <tr>\n",
       "      <th>4</th>\n",
       "      <td>5</td>\n",
       "      <td>107.111519</td>\n",
       "    </tr>\n",
       "  </tbody>\n",
       "</table>\n",
       "</div>"
      ],
      "text/plain": [
       "    District  Mean_price\n",
       "10        11  116.173601\n",
       "13        14  114.465328\n",
       "12        13  113.192138\n",
       "2          3  109.459410\n",
       "4          5  107.111519"
      ]
     },
     "execution_count": 142,
     "metadata": {},
     "output_type": "execute_result"
    }
   ],
   "source": [
    "mean_price_by_district = df.groupby('District')['Price_per_sqft'].mean().reset_index(name = 'Mean_price').sort_values(by = 'Mean_price', ascending = False)\n",
    "mean_price_by_district.head()"
   ]
  },
  {
   "cell_type": "code",
   "execution_count": 144,
   "id": "3adebc28-cd41-45ef-b50f-f0aa0efea0b1",
   "metadata": {},
   "outputs": [
    {
     "data": {
      "image/png": "[encoded data removed]",
      "text/plain": [
       "<Figure size 700x400 with 1 Axes>"
      ]
     },
     "metadata": {},
     "output_type": "display_data"
    }
   ],
   "source": [
    "mean_price_by_district.plot(kind = 'bar', x = 'District', y = 'Mean_price', rot = 0, figsize = (7,4))\n",
    "plt.xlabel('District')\n",
    "plt.ylabel('Mean Price')\n",
    "plt.title('Avearge Apartment price by District');"
   ]
  },
  {
   "cell_type": "markdown",
   "id": "f7ee3ad4-6d25-4398-b4ee-a3d61fd2dfc0",
   "metadata": {},
   "source": [
    "**Is there a relationship between home size and price?**"
   ]
  },
  {
   "cell_type": "code",
   "execution_count": 147,
   "id": "fb06fe7f-eb0c-43d0-9f1f-541f02dc4879",
   "metadata": {},
   "outputs": [
    {
     "data": {
      "image/png": "[encoded data removed]",
      "text/plain": [
       "<Figure size 640x480 with 1 Axes>"
      ]
     },
     "metadata": {},
     "output_type": "display_data"
    }
   ],
   "source": [
    "df.plot(kind = 'scatter', x = 'FinishedSqft', y = 'Sale_price');"
   ]
  },
  {
   "cell_type": "code",
   "execution_count": 149,
   "id": "6992d144-6668-432b-9c18-3bc9e2c6f9c7",
   "metadata": {},
   "outputs": [],
   "source": [
    "corr_mat = df.select_dtypes('number').corr()"
   ]
  },
  {
   "cell_type": "code",
   "execution_count": 421,
   "id": "5f447c09-678d-4bcc-8d46-1f875a68dac5",
   "metadata": {},
   "outputs": [
    {
     "data": {
      "text/plain": [
       "Sale_price        1.000000\n",
       "Price_per_sqft    0.534111\n",
       "FinishedSqft      0.316821\n",
       "Stories           0.201674\n",
       "District          0.172189\n",
       "Name: Sale_price, dtype: float64"
      ]
     },
     "execution_count": 421,
     "metadata": {},
     "output_type": "execute_result"
    }
   ],
   "source": [
    "corr_mat['Sale_price'].sort_values(ascending = False)\n",
    "\n",
    "# finishedSqft has a very low correlation with sale price, but for this activity, we will continue and build a model anyways\n",
    "# there are other factors that affect price of a building"
   ]
  },
  {
   "cell_type": "markdown",
   "id": "c2e5e16a-11d7-4d8f-90d7-6b61fc2bbecd",
   "metadata": {},
   "source": [
    "<font size=\"+2\"><strong>1.2. Predicting Price with FinishedSqft</strong></font>"
   ]
  },
  {
   "cell_type": "markdown",
   "id": "a0b493b1-7f78-47d4-aedc-4c512a81249e",
   "metadata": {},
   "source": [
    "## Split"
   ]
  },
  {
   "cell_type": "code",
   "execution_count": 425,
   "id": "d9377539-1a39-45ee-a37a-4903ec93a2e2",
   "metadata": {},
   "outputs": [
    {
     "name": "stdout",
     "output_type": "stream",
     "text": [
      " X_train length: 10729\n",
      " X_test length: 2683\n",
      " y_train length: 10729\n",
      " y_test length: 2683\n"
     ]
    }
   ],
   "source": [
    "X = df[['FinishedSqft']]\n",
    "y = df['Sale_price']\n",
    "\n",
    "cutoff = int(len(df)*0.8)\n",
    "\n",
    "X_train, y_train, X_test, y_test = (X.iloc[: cutoff], y.iloc[:cutoff], X.iloc[cutoff:], y.iloc[cutoff:] )\n",
    "\n",
    "print(f\" X_train length: {X_train.shape[0]}\")\n",
    "print(f\" X_test length: {X_test.shape[0]}\")\n",
    "print(f\" y_train length: {y_train.shape[0]}\")\n",
    "print(f\" y_test length: {y_test.shape[0]}\")"
   ]
  },
  {
   "cell_type": "markdown",
   "id": "2859dc3b-b07e-495d-9639-e106c8c6929f",
   "metadata": {},
   "source": [
    "## Build Model"
   ]
  },
  {
   "cell_type": "markdown",
   "id": "546d4794-1f97-47a4-ab4b-3eba5eaf7931",
   "metadata": {},
   "source": [
    "### Baseline"
   ]
  },
  {
   "cell_type": "code",
   "execution_count": 429,
   "id": "7f2bfc1e-6b6d-4adc-a2fe-f857f0d0b310",
   "metadata": {},
   "outputs": [
    {
     "name": "stdout",
     "output_type": "stream",
     "text": [
      "Residential mean price: 142221\n",
      "Mae_baseline: 24421\n"
     ]
    }
   ],
   "source": [
    "y_pred_baseline = [y_train.mean()]* len(y_train)\n",
    "mae_baseline = mean_absolute_error(y_train, y_pred_baseline)\n",
    "\n",
    "print(f\"Residential mean price: {round(y_train.mean())}\")\n",
    "print(f\"Mae_baseline: {round(mae_baseline)}\")"
   ]
  },
  {
   "cell_type": "markdown",
   "id": "f85cb734-e028-4110-8a39-6b272be9184d",
   "metadata": {},
   "source": [
    "### Iterate"
   ]
  },
  {
   "cell_type": "code",
   "execution_count": 432,
   "id": "6d87ad4d-f05d-4fb2-a272-fe5e68ebed12",
   "metadata": {},
   "outputs": [
    {
     "data": {
      "text/html": [
       "<style>#sk-container-id-4 {\n",
       "  /* Definition of color scheme common for light and dark mode */\n",
       "  --sklearn-color-text: black;\n",
       "  --sklearn-color-line: gray;\n",
       "  /* Definition of color scheme for unfitted estimators */\n",
       "  --sklearn-color-unfitted-level-0: #fff5e6;\n",
       "  --sklearn-color-unfitted-level-1: #f6e4d2;\n",
       "  --sklearn-color-unfitted-level-2: #ffe0b3;\n",
       "  --sklearn-color-unfitted-level-3: chocolate;\n",
       "  /* Definition of color scheme for fitted estimators */\n",
       "  --sklearn-color-fitted-level-0: #f0f8ff;\n",
       "  --sklearn-color-fitted-level-1: #d4ebff;\n",
       "  --sklearn-color-fitted-level-2: #b3dbfd;\n",
       "  --sklearn-color-fitted-level-3: cornflowerblue;\n",
       "\n",
       "  /* Specific color for light theme */\n",
       "  --sklearn-color-text-on-default-background: var(--sg-text-color, var(--theme-code-foreground, var(--jp-content-font-color1, black)));\n",
       "  --sklearn-color-background: var(--sg-background-color, var(--theme-background, var(--jp-layout-color0, white)));\n",
       "  --sklearn-color-border-box: var(--sg-text-color, var(--theme-code-foreground, var(--jp-content-font-color1, black)));\n",
       "  --sklearn-color-icon: #696969;\n",
       "\n",
       "  @media (prefers-color-scheme: dark) {\n",
       "    /* Redefinition of color scheme for dark theme */\n",
       "    --sklearn-color-text-on-default-background: var(--sg-text-color, var(--theme-code-foreground, var(--jp-content-font-color1, white)));\n",
       "    --sklearn-color-background: var(--sg-background-color, var(--theme-background, var(--jp-layout-color0, #111)));\n",
       "    --sklearn-color-border-box: var(--sg-text-color, var(--theme-code-foreground, var(--jp-content-font-color1, white)));\n",
       "    --sklearn-color-icon: #878787;\n",
       "  }\n",
       "}\n",
       "\n",
       "#sk-container-id-4 {\n",
       "  color: var(--sklearn-color-text);\n",
       "}\n",
       "\n",
       "#sk-container-id-4 pre {\n",
       "  padding: 0;\n",
       "}\n",
       "\n",
       "#sk-container-id-4 input.sk-hidden--visually {\n",
       "  border: 0;\n",
       "  clip: rect(1px 1px 1px 1px);\n",
       "  clip: rect(1px, 1px, 1px, 1px);\n",
       "  height: 1px;\n",
       "  margin: -1px;\n",
       "  overflow: hidden;\n",
       "  padding: 0;\n",
       "  position: absolute;\n",
       "  width: 1px;\n",
       "}\n",
       "\n",
       "#sk-container-id-4 div.sk-dashed-wrapped {\n",
       "  border: 1px dashed var(--sklearn-color-line);\n",
       "  margin: 0 0.4em 0.5em 0.4em;\n",
       "  box-sizing: border-box;\n",
       "  padding-bottom: 0.4em;\n",
       "  background-color: var(--sklearn-color-background);\n",
       "}\n",
       "\n",
       "#sk-container-id-4 div.sk-container {\n",
       "  /* jupyter's `normalize.less` sets `[hidden] { display: none; }`\n",
       "     but bootstrap.min.css set `[hidden] { display: none !important; }`\n",
       "     so we also need the `!important` here to be able to override the\n",
       "     default hidden behavior on the sphinx rendered scikit-learn.org.\n",
       "     See: https://github.com/scikit-learn/scikit-learn/issues/21755 */\n",
       "  display: inline-block !important;\n",
       "  position: relative;\n",
       "}\n",
       "\n",
       "#sk-container-id-4 div.sk-text-repr-fallback {\n",
       "  display: none;\n",
       "}\n",
       "\n",
       "div.sk-parallel-item,\n",
       "div.sk-serial,\n",
       "div.sk-item {\n",
       "  /* draw centered vertical line to link estimators */\n",
       "  background-image: linear-gradient(var(--sklearn-color-text-on-default-background), var(--sklearn-color-text-on-default-background));\n",
       "  background-size: 2px 100%;\n",
       "  background-repeat: no-repeat;\n",
       "  background-position: center center;\n",
       "}\n",
       "\n",
       "/* Parallel-specific style estimator block */\n",
       "\n",
       "#sk-container-id-4 div.sk-parallel-item::after {\n",
       "  content: \"\";\n",
       "  width: 100%;\n",
       "  border-bottom: 2px solid var(--sklearn-color-text-on-default-background);\n",
       "  flex-grow: 1;\n",
       "}\n",
       "\n",
       "#sk-container-id-4 div.sk-parallel {\n",
       "  display: flex;\n",
       "  align-items: stretch;\n",
       "  justify-content: center;\n",
       "  background-color: var(--sklearn-color-background);\n",
       "  position: relative;\n",
       "}\n",
       "\n",
       "#sk-container-id-4 div.sk-parallel-item {\n",
       "  display: flex;\n",
       "  flex-direction: column;\n",
       "}\n",
       "\n",
       "#sk-container-id-4 div.sk-parallel-item:first-child::after {\n",
       "  align-self: flex-end;\n",
       "  width: 50%;\n",
       "}\n",
       "\n",
       "#sk-container-id-4 div.sk-parallel-item:last-child::after {\n",
       "  align-self: flex-start;\n",
       "  width: 50%;\n",
       "}\n",
       "\n",
       "#sk-container-id-4 div.sk-parallel-item:only-child::after {\n",
       "  width: 0;\n",
       "}\n",
       "\n",
       "/* Serial-specific style estimator block */\n",
       "\n",
       "#sk-container-id-4 div.sk-serial {\n",
       "  display: flex;\n",
       "  flex-direction: column;\n",
       "  align-items: center;\n",
       "  background-color: var(--sklearn-color-background);\n",
       "  padding-right: 1em;\n",
       "  padding-left: 1em;\n",
       "}\n",
       "\n",
       "\n",
       "/* Toggleable style: style used for estimator/Pipeline/ColumnTransformer box that is\n",
       "clickable and can be expanded/collapsed.\n",
       "- Pipeline and ColumnTransformer use this feature and define the default style\n",
       "- Estimators will overwrite some part of the style using the `sk-estimator` class\n",
       "*/\n",
       "\n",
       "/* Pipeline and ColumnTransformer style (default) */\n",
       "\n",
       "#sk-container-id-4 div.sk-toggleable {\n",
       "  /* Default theme specific background. It is overwritten whether we have a\n",
       "  specific estimator or a Pipeline/ColumnTransformer */\n",
       "  background-color: var(--sklearn-color-background);\n",
       "}\n",
       "\n",
       "/* Toggleable label */\n",
       "#sk-container-id-4 label.sk-toggleable__label {\n",
       "  cursor: pointer;\n",
       "  display: block;\n",
       "  width: 100%;\n",
       "  margin-bottom: 0;\n",
       "  padding: 0.5em;\n",
       "  box-sizing: border-box;\n",
       "  text-align: center;\n",
       "}\n",
       "\n",
       "#sk-container-id-4 label.sk-toggleable__label-arrow:before {\n",
       "  /* Arrow on the left of the label */\n",
       "  content: \"▸\";\n",
       "  float: left;\n",
       "  margin-right: 0.25em;\n",
       "  color: var(--sklearn-color-icon);\n",
       "}\n",
       "\n",
       "#sk-container-id-4 label.sk-toggleable__label-arrow:hover:before {\n",
       "  color: var(--sklearn-color-text);\n",
       "}\n",
       "\n",
       "/* Toggleable content - dropdown */\n",
       "\n",
       "#sk-container-id-4 div.sk-toggleable__content {\n",
       "  max-height: 0;\n",
       "  max-width: 0;\n",
       "  overflow: hidden;\n",
       "  text-align: left;\n",
       "  /* unfitted */\n",
       "  background-color: var(--sklearn-color-unfitted-level-0);\n",
       "}\n",
       "\n",
       "#sk-container-id-4 div.sk-toggleable__content.fitted {\n",
       "  /* fitted */\n",
       "  background-color: var(--sklearn-color-fitted-level-0);\n",
       "}\n",
       "\n",
       "#sk-container-id-4 div.sk-toggleable__content pre {\n",
       "  margin: 0.2em;\n",
       "  border-radius: 0.25em;\n",
       "  color: var(--sklearn-color-text);\n",
       "  /* unfitted */\n",
       "  background-color: var(--sklearn-color-unfitted-level-0);\n",
       "}\n",
       "\n",
       "#sk-container-id-4 div.sk-toggleable__content.fitted pre {\n",
       "  /* unfitted */\n",
       "  background-color: var(--sklearn-color-fitted-level-0);\n",
       "}\n",
       "\n",
       "#sk-container-id-4 input.sk-toggleable__control:checked~div.sk-toggleable__content {\n",
       "  /* Expand drop-down */\n",
       "  max-height: 200px;\n",
       "  max-width: 100%;\n",
       "  overflow: auto;\n",
       "}\n",
       "\n",
       "#sk-container-id-4 input.sk-toggleable__control:checked~label.sk-toggleable__label-arrow:before {\n",
       "  content: \"▾\";\n",
       "}\n",
       "\n",
       "/* Pipeline/ColumnTransformer-specific style */\n",
       "\n",
       "#sk-container-id-4 div.sk-label input.sk-toggleable__control:checked~label.sk-toggleable__label {\n",
       "  color: var(--sklearn-color-text);\n",
       "  background-color: var(--sklearn-color-unfitted-level-2);\n",
       "}\n",
       "\n",
       "#sk-container-id-4 div.sk-label.fitted input.sk-toggleable__control:checked~label.sk-toggleable__label {\n",
       "  background-color: var(--sklearn-color-fitted-level-2);\n",
       "}\n",
       "\n",
       "/* Estimator-specific style */\n",
       "\n",
       "/* Colorize estimator box */\n",
       "#sk-container-id-4 div.sk-estimator input.sk-toggleable__control:checked~label.sk-toggleable__label {\n",
       "  /* unfitted */\n",
       "  background-color: var(--sklearn-color-unfitted-level-2);\n",
       "}\n",
       "\n",
       "#sk-container-id-4 div.sk-estimator.fitted input.sk-toggleable__control:checked~label.sk-toggleable__label {\n",
       "  /* fitted */\n",
       "  background-color: var(--sklearn-color-fitted-level-2);\n",
       "}\n",
       "\n",
       "#sk-container-id-4 div.sk-label label.sk-toggleable__label,\n",
       "#sk-container-id-4 div.sk-label label {\n",
       "  /* The background is the default theme color */\n",
       "  color: var(--sklearn-color-text-on-default-background);\n",
       "}\n",
       "\n",
       "/* On hover, darken the color of the background */\n",
       "#sk-container-id-4 div.sk-label:hover label.sk-toggleable__label {\n",
       "  color: var(--sklearn-color-text);\n",
       "  background-color: var(--sklearn-color-unfitted-level-2);\n",
       "}\n",
       "\n",
       "/* Label box, darken color on hover, fitted */\n",
       "#sk-container-id-4 div.sk-label.fitted:hover label.sk-toggleable__label.fitted {\n",
       "  color: var(--sklearn-color-text);\n",
       "  background-color: var(--sklearn-color-fitted-level-2);\n",
       "}\n",
       "\n",
       "/* Estimator label */\n",
       "\n",
       "#sk-container-id-4 div.sk-label label {\n",
       "  font-family: monospace;\n",
       "  font-weight: bold;\n",
       "  display: inline-block;\n",
       "  line-height: 1.2em;\n",
       "}\n",
       "\n",
       "#sk-container-id-4 div.sk-label-container {\n",
       "  text-align: center;\n",
       "}\n",
       "\n",
       "/* Estimator-specific */\n",
       "#sk-container-id-4 div.sk-estimator {\n",
       "  font-family: monospace;\n",
       "  border: 1px dotted var(--sklearn-color-border-box);\n",
       "  border-radius: 0.25em;\n",
       "  box-sizing: border-box;\n",
       "  margin-bottom: 0.5em;\n",
       "  /* unfitted */\n",
       "  background-color: var(--sklearn-color-unfitted-level-0);\n",
       "}\n",
       "\n",
       "#sk-container-id-4 div.sk-estimator.fitted {\n",
       "  /* fitted */\n",
       "  background-color: var(--sklearn-color-fitted-level-0);\n",
       "}\n",
       "\n",
       "/* on hover */\n",
       "#sk-container-id-4 div.sk-estimator:hover {\n",
       "  /* unfitted */\n",
       "  background-color: var(--sklearn-color-unfitted-level-2);\n",
       "}\n",
       "\n",
       "#sk-container-id-4 div.sk-estimator.fitted:hover {\n",
       "  /* fitted */\n",
       "  background-color: var(--sklearn-color-fitted-level-2);\n",
       "}\n",
       "\n",
       "/* Specification for estimator info (e.g. \"i\" and \"?\") */\n",
       "\n",
       "/* Common style for \"i\" and \"?\" */\n",
       "\n",
       ".sk-estimator-doc-link,\n",
       "a:link.sk-estimator-doc-link,\n",
       "a:visited.sk-estimator-doc-link {\n",
       "  float: right;\n",
       "  font-size: smaller;\n",
       "  line-height: 1em;\n",
       "  font-family: monospace;\n",
       "  background-color: var(--sklearn-color-background);\n",
       "  border-radius: 1em;\n",
       "  height: 1em;\n",
       "  width: 1em;\n",
       "  text-decoration: none !important;\n",
       "  margin-left: 1ex;\n",
       "  /* unfitted */\n",
       "  border: var(--sklearn-color-unfitted-level-1) 1pt solid;\n",
       "  color: var(--sklearn-color-unfitted-level-1);\n",
       "}\n",
       "\n",
       ".sk-estimator-doc-link.fitted,\n",
       "a:link.sk-estimator-doc-link.fitted,\n",
       "a:visited.sk-estimator-doc-link.fitted {\n",
       "  /* fitted */\n",
       "  border: var(--sklearn-color-fitted-level-1) 1pt solid;\n",
       "  color: var(--sklearn-color-fitted-level-1);\n",
       "}\n",
       "\n",
       "/* On hover */\n",
       "div.sk-estimator:hover .sk-estimator-doc-link:hover,\n",
       ".sk-estimator-doc-link:hover,\n",
       "div.sk-label-container:hover .sk-estimator-doc-link:hover,\n",
       ".sk-estimator-doc-link:hover {\n",
       "  /* unfitted */\n",
       "  background-color: var(--sklearn-color-unfitted-level-3);\n",
       "  color: var(--sklearn-color-background);\n",
       "  text-decoration: none;\n",
       "}\n",
       "\n",
       "div.sk-estimator.fitted:hover .sk-estimator-doc-link.fitted:hover,\n",
       ".sk-estimator-doc-link.fitted:hover,\n",
       "div.sk-label-container:hover .sk-estimator-doc-link.fitted:hover,\n",
       ".sk-estimator-doc-link.fitted:hover {\n",
       "  /* fitted */\n",
       "  background-color: var(--sklearn-color-fitted-level-3);\n",
       "  color: var(--sklearn-color-background);\n",
       "  text-decoration: none;\n",
       "}\n",
       "\n",
       "/* Span, style for the box shown on hovering the info icon */\n",
       ".sk-estimator-doc-link span {\n",
       "  display: none;\n",
       "  z-index: 9999;\n",
       "  position: relative;\n",
       "  font-weight: normal;\n",
       "  right: .2ex;\n",
       "  padding: .5ex;\n",
       "  margin: .5ex;\n",
       "  width: min-content;\n",
       "  min-width: 20ex;\n",
       "  max-width: 50ex;\n",
       "  color: var(--sklearn-color-text);\n",
       "  box-shadow: 2pt 2pt 4pt #999;\n",
       "  /* unfitted */\n",
       "  background: var(--sklearn-color-unfitted-level-0);\n",
       "  border: .5pt solid var(--sklearn-color-unfitted-level-3);\n",
       "}\n",
       "\n",
       ".sk-estimator-doc-link.fitted span {\n",
       "  /* fitted */\n",
       "  background: var(--sklearn-color-fitted-level-0);\n",
       "  border: var(--sklearn-color-fitted-level-3);\n",
       "}\n",
       "\n",
       ".sk-estimator-doc-link:hover span {\n",
       "  display: block;\n",
       "}\n",
       "\n",
       "/* \"?\"-specific style due to the `<a>` HTML tag */\n",
       "\n",
       "#sk-container-id-4 a.estimator_doc_link {\n",
       "  float: right;\n",
       "  font-size: 1rem;\n",
       "  line-height: 1em;\n",
       "  font-family: monospace;\n",
       "  background-color: var(--sklearn-color-background);\n",
       "  border-radius: 1rem;\n",
       "  height: 1rem;\n",
       "  width: 1rem;\n",
       "  text-decoration: none;\n",
       "  /* unfitted */\n",
       "  color: var(--sklearn-color-unfitted-level-1);\n",
       "  border: var(--sklearn-color-unfitted-level-1) 1pt solid;\n",
       "}\n",
       "\n",
       "#sk-container-id-4 a.estimator_doc_link.fitted {\n",
       "  /* fitted */\n",
       "  border: var(--sklearn-color-fitted-level-1) 1pt solid;\n",
       "  color: var(--sklearn-color-fitted-level-1);\n",
       "}\n",
       "\n",
       "/* On hover */\n",
       "#sk-container-id-4 a.estimator_doc_link:hover {\n",
       "  /* unfitted */\n",
       "  background-color: var(--sklearn-color-unfitted-level-3);\n",
       "  color: var(--sklearn-color-background);\n",
       "  text-decoration: none;\n",
       "}\n",
       "\n",
       "#sk-container-id-4 a.estimator_doc_link.fitted:hover {\n",
       "  /* fitted */\n",
       "  background-color: var(--sklearn-color-fitted-level-3);\n",
       "}\n",
       "</style><div id=\"sk-container-id-4\" class=\"sk-top-container\"><div class=\"sk-text-repr-fallback\"><pre>LinearRegression()</pre><b>In a Jupyter environment, please rerun this cell to show the HTML representation or trust the notebook. <br />On GitHub, the HTML representation is unable to render, please try loading this page with nbviewer.org.</b></div><div class=\"sk-container\" hidden><div class=\"sk-item\"><div class=\"sk-estimator fitted sk-toggleable\"><input class=\"sk-toggleable__control sk-hidden--visually\" id=\"sk-estimator-id-4\" type=\"checkbox\" checked><label for=\"sk-estimator-id-4\" class=\"sk-toggleable__label fitted sk-toggleable__label-arrow fitted\">&nbsp;&nbsp;LinearRegression<a class=\"sk-estimator-doc-link fitted\" rel=\"noreferrer\" target=\"_blank\" href=\"https://scikit-learn.org/1.4/modules/generated/sklearn.linear_model.LinearRegression.html\">?<span>Documentation for LinearRegression</span></a><span class=\"sk-estimator-doc-link fitted\">i<span>Fitted</span></span></label><div class=\"sk-toggleable__content fitted\"><pre>LinearRegression()</pre></div> </div></div></div></div>"
      ],
      "text/plain": [
       "LinearRegression()"
      ]
     },
     "execution_count": 432,
     "metadata": {},
     "output_type": "execute_result"
    }
   ],
   "source": [
    "model = LinearRegression()\n",
    "model.fit(X_train, y_train)"
   ]
  },
  {
   "cell_type": "code",
   "execution_count": 434,
   "id": "454460cd-0cd1-4a17-bd29-5fae037624c6",
   "metadata": {},
   "outputs": [
    {
     "name": "stdout",
     "output_type": "stream",
     "text": [
      " mae_training : 22823\n"
     ]
    }
   ],
   "source": [
    "y_pred_training = model.predict(X_train)\n",
    "mae_training = mean_absolute_error(y_train, y_pred_training)\n",
    "\n",
    "print(f\" mae_training : {round(mae_training)}\")"
   ]
  },
  {
   "cell_type": "code",
   "execution_count": 436,
   "id": "3897405b-164c-492e-83a9-d877da661275",
   "metadata": {},
   "outputs": [
    {
     "name": "stdout",
     "output_type": "stream",
     "text": [
      " mae_test: 25258\n"
     ]
    }
   ],
   "source": [
    "y_pred_test = model.predict(X_test)\n",
    "mae_test = mean_absolute_error(y_test, y_pred_test)\n",
    "print(f\" mae_test: {round(mae_test)}\")"
   ]
  },
  {
   "cell_type": "markdown",
   "id": "92e9c72d-24a4-4132-8e2f-a3d75d4b9675",
   "metadata": {},
   "source": [
    "## Communication"
   ]
  },
  {
   "cell_type": "code",
   "execution_count": 439,
   "id": "c99b7a1e-e99e-4c27-929f-d0c381c4ea7d",
   "metadata": {},
   "outputs": [
    {
     "name": "stdout",
     "output_type": "stream",
     "text": [
      "Residenial_price = 99438 + 31 * FinishedSqft\n"
     ]
    }
   ],
   "source": [
    "intercept = round(model.intercept_)\n",
    "coefficient = round(model.coef_[0])\n",
    "\n",
    "print(f\"Residenial_price = {intercept} + {coefficient} * FinishedSqft\")"
   ]
  },
  {
   "cell_type": "code",
   "execution_count": null,
   "id": "823ee350-b76a-4f74-8835-b096e8d08494",
   "metadata": {},
   "outputs": [],
   "source": []
  }
 ],
 "metadata": {
  "kernelspec": {
   "display_name": "Python 3 (ipykernel)",
   "language": "python",
   "name": "python3"
  },
  "language_info": {
   "codemirror_mode": {
    "name": "ipython",
    "version": 3
   },
   "file_extension": ".py",
   "mimetype": "text/x-python",
   "name": "python",
   "nbconvert_exporter": "python",
   "pygments_lexer": "ipython3",
   "version": "3.12.3"
  }
 },
 "nbformat": 4,
 "nbformat_minor": 5
}
